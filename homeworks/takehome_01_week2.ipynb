{
 "cells": [
  {
   "cell_type": "markdown",
   "metadata": {},
   "source": [
    "# Supervised Learning: Take Home\n",
    "In this assignment, you will have 3 tasks:\n",
    "1. Build a LMS model to predict diabetic health outcomes from a dataset\n",
    "2. Split the data intro training and validation sets and provide your rationale for your choice\n",
    "3. Rank features by most impactful to least impactful for your model's prediction on validation data, and explain how you determined your ranking\n",
    "\n",
    "You will be graded on the following criteria\n",
    "- Did you complete all 3 tasks?\n",
    "- Did you show your work?\n",
    "    - Using `sklearn.linear_model.LinearRegression` is an auto fail\n",
    "    - Copying code from Kaggle or elsewhere will also be a fail :) \n",
    "    - Feel free to use the lecture notebook code though.\n",
    "- Did you write readable code, meaning...\n",
    "    - Clearly named variables\n",
    "    - Re-used code is put in functions\n",
    "    - Comments and markdown where appropriate to explain your decision making\n",
    "\n",
    "The only allowed external libraries to complete this assignment are `numpy` and `matplotlib` for visualization (optional)."
   ]
  },
  {
   "cell_type": "code",
   "execution_count": 109,
   "metadata": {},
   "outputs": [
    {
     "name": "stdout",
     "output_type": "stream",
     "text": [
      "['age', 'sex', 'bmi', 'bp', 's1', 's2', 's3', 's4', 's5', 's6']\n",
      "(442, 11)\n",
      "(442,)\n"
     ]
    }
   ],
   "source": [
    "#fetch the diabetes dataset\n",
    "#https://scikit-learn.org/stable/datasets/toy_dataset.html#diabetes-dataset for more information\n",
    "from sklearn.datasets import load_diabetes\n",
    "import numpy as np\n",
    "import matplotlib.pyplot as plt\n",
    "\n",
    "dataset = load_diabetes()\n",
    "print(dataset['feature_names'])\n",
    "x = dataset['data']\n",
    "y = dataset['target']\n",
    "\n",
    "#dont forget to add the bias term!\n",
    "x = np.column_stack([x, np.ones(x.shape[0])])\n",
    "print(x.shape)\n",
    "print(y.shape)"
   ]
  },
  {
   "cell_type": "markdown",
   "metadata": {},
   "source": [
    "### Explore your dataset, decide on splitting strategy\n",
    "\n",
    "Explain your reasoning"
   ]
  },
  {
   "cell_type": "code",
   "execution_count": null,
   "metadata": {},
   "outputs": [],
   "source": []
  },
  {
   "cell_type": "markdown",
   "metadata": {},
   "source": [
    "### Write your LMS functions"
   ]
  },
  {
   "cell_type": "code",
   "execution_count": null,
   "metadata": {},
   "outputs": [],
   "source": []
  },
  {
   "cell_type": "markdown",
   "metadata": {},
   "source": [
    "### Learn your LMS parameters"
   ]
  },
  {
   "cell_type": "code",
   "execution_count": null,
   "metadata": {},
   "outputs": [],
   "source": []
  },
  {
   "cell_type": "markdown",
   "metadata": {},
   "source": [
    "### Feature selection - which one matters the most? The least?\n",
    "Provide a 1 to 10 ranking of each feature, 1 being the most useful features and 10 being the least useful.\n",
    "\n",
    "(There could be multiple ways to answer, just show your work)"
   ]
  },
  {
   "cell_type": "code",
   "execution_count": null,
   "metadata": {},
   "outputs": [],
   "source": []
  }
 ],
 "metadata": {
  "kernelspec": {
   "display_name": "Python 3",
   "language": "python",
   "name": "python3"
  },
  "language_info": {
   "codemirror_mode": {
    "name": "ipython",
    "version": 3
   },
   "file_extension": ".py",
   "mimetype": "text/x-python",
   "name": "python",
   "nbconvert_exporter": "python",
   "pygments_lexer": "ipython3",
   "version": "3.6.8"
  },
  "orig_nbformat": 4
 },
 "nbformat": 4,
 "nbformat_minor": 2
}

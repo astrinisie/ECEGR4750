{
 "cells": [
  {
   "cell_type": "markdown",
   "metadata": {},
   "source": [
    "# Logistic Regression: Take Home"
   ]
  },
  {
   "cell_type": "markdown",
   "metadata": {},
   "source": [
    "Thrombospondin is a key protein in wound healing and the growth of blood vessels. Inhibiting it can also prevent tumor growth in cancer. Here, I have collected a dataset of molecules that have been tested against thrombospondin.\n",
    "\n",
    "Load up `thrombo_fingerprints.npy`. I have generated molecular 'fingerprints' of each compound. These fingerprints are bit vectors that describe the presence of certain structural motifs in the molecule.\n",
    "\n",
    "Then, load up `thombo_potencies.npy`. These are the experimentally found potencies for each molecule, in nanomolar units. That means that small values indicate inhibition of thombospondin (good!) and large values indicate they don't bind well at all (useless).\n",
    "\n",
    "---------------\n",
    "\n",
    "Use what you have learned with logistic regression to build a model to predict if a molecule can bind to thrombospondin. Implement each of the following:\n",
    "\n",
    "1. Process the potency data appropriately for logistic regression. Ensure your classes are roughly balanced.\n",
    "2. Split the data into train and validation sets using a random split.\n",
    "3. Build a logistic regression model from scratch.\n",
    "4. Train your model using SGD and plot the resulting loss. \n",
    "5. Then, reset your model and train it using mini-batches, again plot the loss.\n",
    "6. Traditionally, 0.5 is considered the threshold between class 0 and class 1, such that model values >0.5 are considered class 1 and values <0.5 are considered class 0. However, this isn't always true in practice. How can you use the ROC curve to identify the optimal threshold? Plot the ROC curve and indicate the optimal threshold (hint: go look up Youden's J statistic)."
   ]
  }
 ],
 "metadata": {
  "kernelspec": {
   "display_name": "Python 3",
   "language": "python",
   "name": "python3"
  },
  "language_info": {
   "codemirror_mode": {
    "name": "ipython",
    "version": 3
   },
   "file_extension": ".py",
   "mimetype": "text/x-python",
   "name": "python",
   "nbconvert_exporter": "python",
   "pygments_lexer": "ipython3",
   "version": "3.9.7"
  }
 },
 "nbformat": 4,
 "nbformat_minor": 2
}

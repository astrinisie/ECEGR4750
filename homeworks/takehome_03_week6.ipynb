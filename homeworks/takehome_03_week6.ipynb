{
 "cells": [
  {
   "cell_type": "markdown",
   "metadata": {},
   "source": [
    "# Naive Bayes: Take Home\n",
    "\n",
    "In this assignment, complete the following tasks.\n",
    "\n",
    "1. Select an appropriate dataset of your choosing from `sklearn.datasets`\n",
    "2. Split your data into training and validation sets. Ensure your data is split reasonably.\n",
    "3. Select the appropriate Naive Bayes model from `sklearn.naive_bayes` and fit it to your training data\n",
    "4. Establish a random baseline model to compare against. This means for classification tasks, classes are predicted at random. It is always good to show that your model performs better than random chance.\n",
    "5. Select the appropriate evaluation metric for your data and model. Show how your naive bayes model improves upon the random baseline model on your validation data.\n",
    "\n",
    "You will be assessed on the following criteria:\n",
    "- You prepared the data appropriately\n",
    "- You selected the right combination of dataset, model, and evaluation metrics\n",
    "- You showed improvement over the random baseline model\n",
    "- Your code runs without any errors (make sure you restart your kernel and ensure it runs all the way through before submission)\n",
    "- Code readability\n",
    "    - Variables are named clearly and consistently (use snake_case or camelCase but not both)\n",
    "    - Efficient code. No un-used variables should be submitted. Clear all outputs before submitting to reduce file size.\n",
    "    - Comments and markdown where appropriate to explain your approach"
   ]
  },
  {
   "cell_type": "code",
   "execution_count": null,
   "metadata": {},
   "outputs": [],
   "source": []
  }
 ],
 "metadata": {
  "kernelspec": {
   "display_name": "Python 3",
   "language": "python",
   "name": "python3"
  },
  "language_info": {
   "codemirror_mode": {
    "name": "ipython",
    "version": 3
   },
   "file_extension": ".py",
   "mimetype": "text/x-python",
   "name": "python",
   "nbconvert_exporter": "python",
   "pygments_lexer": "ipython3",
   "version": "3.6.8"
  }
 },
 "nbformat": 4,
 "nbformat_minor": 2
}

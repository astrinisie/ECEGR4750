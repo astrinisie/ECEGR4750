{
 "cells": [
  {
   "cell_type": "markdown",
   "metadata": {},
   "source": [
    "# Neural Networks: Take Home\n",
    "\n",
    "Consider this scenario. You have been given a dataset of NFL play-by-play data, `play_by_play_nfl.csv`, and you have been tasked with building a model that learns to predict the playcalls of the opposing team, *so that it can be used in real time during a game*. A basic summary of how an NFL game works\n",
    "\n",
    "- Each team tries to advance the ball down the field, from yard 0 to yard 100, in order to score.\n",
    "- A team gets up to 4 tries (or downs) to advance the ball at least 10 yards (distance on 1st down) before punting it to the other team or attempting a field goal.\n",
    "- The biggest problem for the defense is figuring out if the other team's offense is going to run or pass the ball.\n",
    "\n",
    "I have curated a dataset here that contains lots of information. Your task is to consider how this model will be used, select features you think are useful, and build a neural network *classifier* to predict the likelihood of any of the following plays:\n",
    "    \n",
    "    Play_run   Play_shortPass     Play_longPass   Play_punt    Play_fg\n",
    "\n",
    "You will be scored on the following:\n",
    "\n",
    "1. Provide a rationale for your feature selection, whether quantitative or qualitative. Select features that are appropriate given how the model will be used.\n",
    "2. Process and split the data in train, validation, *and* test sets, as appropriate for a neural network. \n",
    "3. Implement and use your Dataloader and Model class, either of your own making, or from the neural networks lab.\n",
    "4. Train a model, while logging and visualizing training and validation losses. Describe what hyperparameters you found useful to tune, if any\n",
    "5. You applied the correct metric to check your model's performance on the test set. Interpret what these metrics mean and explain what your model does well and does not do well.\n",
    "\n",
    "(BONUS) Discover in what situation *your model* believes a team is most likely to make a deep pass, and show your work."
   ]
  },
  {
   "cell_type": "code",
   "execution_count": 35,
   "metadata": {},
   "outputs": [],
   "source": [
    "# put all imports here\n"
   ]
  },
  {
   "cell_type": "markdown",
   "metadata": {},
   "source": [
    "### Feature Selection"
   ]
  },
  {
   "cell_type": "code",
   "execution_count": 34,
   "metadata": {},
   "outputs": [],
   "source": []
  },
  {
   "cell_type": "markdown",
   "metadata": {},
   "source": [
    "**Rationale for feature selection:** [put your explanation here]"
   ]
  },
  {
   "cell_type": "markdown",
   "metadata": {},
   "source": [
    "### Process and split data"
   ]
  },
  {
   "cell_type": "code",
   "execution_count": null,
   "metadata": {},
   "outputs": [],
   "source": []
  },
  {
   "cell_type": "markdown",
   "metadata": {},
   "source": [
    "### Instantiate dataloader and model"
   ]
  },
  {
   "cell_type": "code",
   "execution_count": null,
   "metadata": {},
   "outputs": [],
   "source": []
  },
  {
   "cell_type": "markdown",
   "metadata": {},
   "source": [
    "### Train the model"
   ]
  },
  {
   "cell_type": "code",
   "execution_count": null,
   "metadata": {},
   "outputs": [],
   "source": []
  },
  {
   "cell_type": "markdown",
   "metadata": {},
   "source": [
    "**Hyperparameters you explored:** [describe what you did here]"
   ]
  },
  {
   "cell_type": "markdown",
   "metadata": {},
   "source": [
    "### Apply metrics"
   ]
  },
  {
   "cell_type": "code",
   "execution_count": null,
   "metadata": {},
   "outputs": [],
   "source": []
  },
  {
   "cell_type": "markdown",
   "metadata": {},
   "source": [
    "**Model does this well:** [describe what the model excels at]"
   ]
  },
  {
   "cell_type": "markdown",
   "metadata": {},
   "source": [
    "**Model does NOT do this well:** [describe what the model is poor at]"
   ]
  },
  {
   "cell_type": "markdown",
   "metadata": {},
   "source": [
    "### BONUS\n",
    "\n",
    "Describe in what situation a team is most likely to attempt a deep pass. Show how you discovered this."
   ]
  },
  {
   "cell_type": "code",
   "execution_count": null,
   "metadata": {},
   "outputs": [],
   "source": []
  }
 ],
 "metadata": {
  "kernelspec": {
   "display_name": "Python 3",
   "language": "python",
   "name": "python3"
  },
  "language_info": {
   "codemirror_mode": {
    "name": "ipython",
    "version": 3
   },
   "file_extension": ".py",
   "mimetype": "text/x-python",
   "name": "python",
   "nbconvert_exporter": "python",
   "pygments_lexer": "ipython3",
   "version": "3.6.8"
  }
 },
 "nbformat": 4,
 "nbformat_minor": 2
}

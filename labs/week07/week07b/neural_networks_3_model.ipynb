{
 "cells": [
  {
   "cell_type": "markdown",
   "metadata": {},
   "source": [
    "# Neural Networks: Part 2 - Model"
   ]
  },
  {
   "cell_type": "code",
   "execution_count": null,
   "metadata": {},
   "outputs": [],
   "source": [
    "import torch\n",
    "import pandas as pd\n",
    "import numpy as np\n",
    "import tqdm\n",
    "import matplotlib.pyplot as plt"
   ]
  },
  {
   "cell_type": "markdown",
   "metadata": {},
   "source": [
    "## Classifier Model\n",
    "\n",
    "Restart your kernel, so nothing from above carries over.\n",
    "\n",
    "First, go look at `model/model.py`. The model there should be familiar to you, it is the regression model from the prior lab. It has been updated to be flexibly defined according to the values we pass it."
   ]
  },
  {
   "cell_type": "code",
   "execution_count": null,
   "metadata": {},
   "outputs": [],
   "source": [
    "# this is a relative import, it looks in the directory 'model', then looks in the .py script 'networks' for our class\n",
    "from model.networks import FullyConnectedNetwork\n",
    "\n",
    "# instantiate a model\n",
    "model = # write the command here to instantiate it\n",
    "\n",
    "# confirm it has been made to your specifications\n",
    "model"
   ]
  },
  {
   "cell_type": "markdown",
   "metadata": {},
   "source": [
    "We can continue to customize our network as we go along. However, the current model produces an output designed for regression... how do we modify it to be used for classification?\n",
    "\n",
    "- The model needs to produce a certain size of outputs. For a binary classification task, a single value, and for multi-class tasks, one value per class. \n",
    "- The model's output needs to be transformed to be in the range of 0 to 1.\n",
    "\n",
    "Make your modifications now."
   ]
  },
  {
   "cell_type": "code",
   "execution_count": null,
   "metadata": {},
   "outputs": [],
   "source": [
    "# here is my model I made\n",
    "from model.networks_Solution import FCNClassifier\n",
    "\n",
    "model = FCNClassifier(17, 64, 1)\n",
    "model"
   ]
  },
  {
   "cell_type": "markdown",
   "metadata": {},
   "source": [
    "### Train\n",
    "\n",
    "Let's put it all together and train a classifier on your processed dataset, using your very own dataloader"
   ]
  },
  {
   "cell_type": "code",
   "execution_count": null,
   "metadata": {},
   "outputs": [],
   "source": [
    "from model.dataloader_Solution import CustomDataloader\n",
    "\n",
    "# load data\n",
    "data_dict = torch.load('data/wages_processed.pt')\n",
    "\n",
    "# instantiate your dataloaders\n",
    "train_dataloader = CustomDataloader(data_dict['x_train'],data_dict['y_train'], batch_size = 8, randomize=True)\n",
    "val_dataloader = CustomDataloader(data_dict['x_val'],data_dict['y_val'], batch_size = 64)\n",
    "test_dataloader = CustomDataloader(data_dict['x_test'],data_dict['y_test'], batch_size = 64)"
   ]
  },
  {
   "cell_type": "markdown",
   "metadata": {},
   "source": [
    "I've put in an example way to set up your training loop, adapt it accordingly to your own dataloader and fill in the remaining code"
   ]
  },
  {
   "cell_type": "code",
   "execution_count": null,
   "metadata": {},
   "outputs": [],
   "source": [
    "# instantiate your model with the correct inputs and outputs, and a reasonable hidden dim\n",
    "model = FCNClassifier(17, 256, 1)\n",
    "\n",
    "# instantiate your optimizer\n",
    "optimizer = torch.optim.Adam(model.parameters(), lr=1e-4)\n",
    "\n",
    "# log your losses\n",
    "train_losses = []\n",
    "val_losses = []\n",
    "\n",
    "# define how many updates to your model\n",
    "epochs = 100\n",
    "\n",
    "# define your loss function for a binary classification class\n",
    "# this is a binary cross entropy loss function, and it expects data in the range 0-1\n",
    "loss_fn = torch.nn.BCELoss()\n",
    "\n",
    "for _ in tqdm.tqdm(range(epochs)):\n",
    "    losses = []\n",
    "    for _ in range(train_dataloader.num_batches_per_epoch):\n",
    "        # training data forward pass\n",
    "        optimizer.zero_grad()\n",
    "        train_batch = train_dataloader.fetch_batch()\n",
    "        yhat = model(train_batch['x_batch'])\n",
    "        train_loss = loss_fn(yhat, train_batch['y_batch'])\n",
    "\n",
    "        # training data backward pass\n",
    "        train_loss.backward()\n",
    "        optimizer.step()\n",
    "        losses.append(train_loss.detach().numpy())\n",
    "    train_losses.append(np.mean(losses))\n",
    "\n",
    "    \n",
    "    losses = []\n",
    "    for _ in range(val_dataloader.num_batches_per_epoch):\n",
    "        # validation data forward pass only\n",
    "        val_batch = val_dataloader.fetch_batch()\n",
    "        yhat = model(val_batch['x_batch'])\n",
    "        val_loss = loss_fn(yhat, val_batch['y_batch'])\n",
    "        losses.append(val_loss.detach().numpy())\n",
    "    val_losses.append(np.mean(losses))"
   ]
  },
  {
   "cell_type": "code",
   "execution_count": null,
   "metadata": {},
   "outputs": [],
   "source": [
    "import matplotlib.pyplot as plt\n",
    "\n",
    "plt.figure(0, figsize = (12,6))\n",
    "plt.title('Loss per epoch')\n",
    "plt.xlabel('Epoch')\n",
    "plt.ylabel('Loss')\n",
    "plt.plot(train_losses)\n",
    "plt.plot(val_losses)\n",
    "plt.legend([\"Training loss\",\"Validation loss\"])"
   ]
  },
  {
   "cell_type": "markdown",
   "metadata": {},
   "source": [
    "**Q: How to interpret these loss values? What would be the loss if we randomly chose 1s or 0s? Establish what your random baseline loss is, and see if you are beating it.**"
   ]
  },
  {
   "cell_type": "markdown",
   "metadata": {},
   "source": [
    "Once you are satisfied with your classifier, don't forget to check how you do on your test data"
   ]
  },
  {
   "cell_type": "code",
   "execution_count": null,
   "metadata": {},
   "outputs": [],
   "source": [
    "# test data performance\n"
   ]
  }
 ],
 "metadata": {
  "kernelspec": {
   "display_name": "Python 3 (ipykernel)",
   "language": "python",
   "name": "python3"
  },
  "language_info": {
   "codemirror_mode": {
    "name": "ipython",
    "version": 3
   },
   "file_extension": ".py",
   "mimetype": "text/x-python",
   "name": "python",
   "nbconvert_exporter": "python",
   "pygments_lexer": "ipython3",
   "version": "3.9.6"
  }
 },
 "nbformat": 4,
 "nbformat_minor": 4
}

{
 "cells": [
  {
   "cell_type": "markdown",
   "metadata": {},
   "source": [
    "# Neural networks\n",
    "\n",
    "The most widely used library for neural networks is `torch`. Let's walk through the basics of building a simple fully connected neural network with it."
   ]
  },
  {
   "cell_type": "markdown",
   "metadata": {},
   "source": [
    "We will install `torch` without any addons like GPU support (via nvidia's CUDA toolkits) or particular libraries that make certain operations more efficient. Management of data and models across devices is its own subject, so we will only use the CPU-based version of `torch`. For the other versions, check here: https://pytorch.org/get-started/locally/"
   ]
  },
  {
   "cell_type": "code",
   "execution_count": 1,
   "metadata": {},
   "outputs": [
    {
     "name": "stdout",
     "output_type": "stream",
     "text": [
      "2.1.0\n"
     ]
    }
   ],
   "source": [
    "# install pytorch by running `pip install torch`\n",
    "import torch\n",
    "\n",
    "# check that it imports and get the version\n",
    "print(torch.__version__)"
   ]
  },
  {
   "cell_type": "markdown",
   "metadata": {},
   "source": [
    "We will grab a dataset we are familiar with from sklearn, and prepare it to be used by our `torch` model."
   ]
  },
  {
   "cell_type": "code",
   "execution_count": 2,
   "metadata": {},
   "outputs": [
    {
     "name": "stdout",
     "output_type": "stream",
     "text": [
      "x train:  (265, 10) y train: (265,)\n",
      "x val:  (88, 10) y train: (88,)\n",
      "x test:  (89, 10) y test: (89,)\n"
     ]
    }
   ],
   "source": [
    "import sklearn\n",
    "import numpy as np\n",
    "from sklearn.datasets import load_diabetes\n",
    "from sklearn.model_selection import train_test_split\n",
    "\n",
    "# load our data\n",
    "dataset = load_diabetes()\n",
    "x = dataset['data']\n",
    "y = dataset['target']\n",
    "\n",
    "# split train and val\n",
    "x_train, x_val, y_train, y_val = train_test_split(x, y, train_size = 0.6)\n",
    "\n",
    "# split again to get a test set\n",
    "x_val, x_test, y_val, y_test = train_test_split(x_val, y_val, train_size=0.5)\n",
    "\n",
    "print(\"x train: \",x_train.shape, \"y train:\", y_train.shape)\n",
    "print(\"x val: \",x_val.shape, \"y train:\", y_val.shape)\n",
    "print(\"x test: \",x_test.shape, \"y test:\", y_test.shape)"
   ]
  },
  {
   "cell_type": "markdown",
   "metadata": {},
   "source": [
    "We now need to check to see if our data has any features that are scaled abnormally. Ideally, all our features lie in a -1 to 1 range, where our model will be able to handle it. Features that are too large or small in scale can complicate training a neural network model."
   ]
  },
  {
   "cell_type": "code",
   "execution_count": 3,
   "metadata": {},
   "outputs": [
    {
     "data": {
      "image/png": "[encoded data removed]",
      "text/plain": [
       "<Figure size 1000x400 with 1 Axes>"
      ]
     },
     "metadata": {},
     "output_type": "display_data"
    }
   ],
   "source": [
    "import matplotlib.pyplot as plt\n",
    "\n",
    "plt.figure(0, figsize=(10,4))\n",
    "plt.title('All training values')\n",
    "plt.hist(x_train.flatten(), bins = np.arange(-1,1,0.01));"
   ]
  },
  {
   "cell_type": "markdown",
   "metadata": {},
   "source": [
    "- Note about test data: We have added a new split to our data, which we can now call our \"test\" data. When we train a neural network, we usually look at both the training loss and validation loss during training. We would like our validation loss to be close as possible to our training loss, because it indicates our model is not simply \"memorizing\" the training data. However, we make decisions about our model's hyperparameters (like learning rate, choice of activation functions, width and depth of layers, etc) based on our performance on validation data. This is a kind of overfitting, and so we need a truly unseen dataset to test our model on after training, hence, \"test\" data.\n",
    "\n",
    "\n",
    "---------------------\n",
    "\n",
    "\n",
    "`torch` provides some neat functionality. As input, it wants our data to be of type `torch.Tensor`, and all operations performed on that tensor must also be a `torch` operation. This is because `torch` can do automatic differentiation of almost *any* `torch` operation. Often, simply replacing `numpy` with `torch` is sufficient. So `np.add` could simply be written as `torch.add`.\n",
    "\n",
    "So, we should transform our data into `torch.Tensors`, which thankfully is very easy to do. The data should stay in this format until it has passed entirely through the model."
   ]
  },
  {
   "cell_type": "code",
   "execution_count": 4,
   "metadata": {},
   "outputs": [
    {
     "name": "stdout",
     "output_type": "stream",
     "text": [
      "Type of x_train <class 'numpy.ndarray'>\n",
      "Type of x_train <class 'torch.Tensor'>\n"
     ]
    }
   ],
   "source": [
    "print('Type of x_train',type(x_train))\n",
    "x_train, x_val, x_test = torch.Tensor(x_train), torch.Tensor(x_val), torch.Tensor(x_test)\n",
    "y_train, y_val, y_test = torch.Tensor(y_train), torch.Tensor(y_val), torch.Tensor(y_test)\n",
    "print('Type of x_train',type(x_train))"
   ]
  },
  {
   "cell_type": "markdown",
   "metadata": {},
   "source": [
    "### Model definition\n",
    "\n",
    "We will now construct our model class and call it LearningModel. This will define everything about our model."
   ]
  },
  {
   "cell_type": "code",
   "execution_count": 5,
   "metadata": {},
   "outputs": [],
   "source": [
    "import torch.nn as nn\n",
    "\n",
    "class LearningModel(nn.Module): # this means the class is inheriting all the class attributes of nn.Module\n",
    "    \n",
    "    # the __init__ function is called when an instance of the class is created\n",
    "    def __init__(self):\n",
    "        super(LearningModel, self).__init__() # lets us call methods from the base class, nn.Module\n",
    "\n",
    "        # now we can define our layers\n",
    "        # by prepending self to it, we are storing this as a variable of our class, that can be called elsewhere\n",
    "        self.linear1 = nn.Linear(in_features = 10, out_features = 64)\n",
    "        self.linear2 = nn.Linear(in_features = 64, out_features = 32)\n",
    "        self.linear3 = nn.Linear(in_features = 32, out_features = 1)\n",
    "\n",
    "        # our activation function\n",
    "        self.relu = nn.ReLU()\n",
    "\n",
    "    # the forward function defines how the data flows through each layer of the model, and should return the model's output\n",
    "    def forward(self, x):\n",
    "        x = self.linear1(x)\n",
    "        x = self.relu(x)\n",
    "        x = self.linear2(x)\n",
    "        x = self.relu(x)\n",
    "        x = self.linear3(x)\n",
    "\n",
    "        # note that I can do any torch operation I want inside this forward function, and pytorch will automatically calculate\n",
    "        # my gradient. doesn't just have to be torch.nn layers!\n",
    "        \n",
    "        return x"
   ]
  },
  {
   "cell_type": "markdown",
   "metadata": {},
   "source": [
    "Take a look at the model's parameters"
   ]
  },
  {
   "cell_type": "code",
   "execution_count": 6,
   "metadata": {},
   "outputs": [
    {
     "name": "stdout",
     "output_type": "stream",
     "text": [
      "torch.Size([64, 10])\n",
      "torch.Size([64])\n",
      "torch.Size([32, 64])\n",
      "torch.Size([32])\n",
      "torch.Size([1, 32])\n",
      "torch.Size([1])\n",
      "Parameter containing:\n",
      "tensor([-0.0723], requires_grad=True)\n"
     ]
    }
   ],
   "source": [
    "# instantiate our model\n",
    "model = LearningModel() \n",
    "\n",
    "# look at the shape of our model's layers as we defined above\n",
    "for param in model.parameters():\n",
    "    print(param.shape)\n",
    "\n",
    "# look at what these random initialized parameters look like\n",
    "# we can print out the final parameter from the loop above, which is the bias term of our linear3 layer\n",
    "print(param)"
   ]
  },
  {
   "cell_type": "markdown",
   "metadata": {},
   "source": [
    "Before diving into training, we want to check that our model is compatible with our data. Let's make dummy data and check"
   ]
  },
  {
   "cell_type": "code",
   "execution_count": 7,
   "metadata": {},
   "outputs": [
    {
     "name": "stdout",
     "output_type": "stream",
     "text": [
      "<class 'torch.Tensor'> torch.Size([1, 10])\n",
      "<class 'torch.Tensor'> torch.Size([1, 1])\n"
     ]
    }
   ],
   "source": [
    "model = LearningModel() \n",
    "\n",
    "# make a dummy sample the same size of our data\n",
    "x_dummy = torch.rand(1, 10) \n",
    "print(type(x_dummy), x_dummy.shape)\n",
    "\n",
    "# pass the data through the model. note that model.forward(x_dummy) can also be written as model(x_dummy)\n",
    "y_dummy = model(x_dummy)\n",
    "print(type(y_dummy), y_dummy.shape)"
   ]
  },
  {
   "cell_type": "code",
   "execution_count": 8,
   "metadata": {},
   "outputs": [
    {
     "ename": "RuntimeError",
     "evalue": "mat1 and mat2 shapes cannot be multiplied (1x9 and 10x64)",
     "output_type": "error",
     "traceback": [
      "\u001b[0;31m---------------------------------------------------------------------------\u001b[0m",
      "\u001b[0;31mRuntimeError\u001b[0m                              Traceback (most recent call last)",
      "Cell \u001b[0;32mIn[8], line 3\u001b[0m\n\u001b[1;32m      1\u001b[0m \u001b[38;5;66;03m# see what happens if we pass the wrong size data through. this is an error you will see a lot in model development!\u001b[39;00m\n\u001b[1;32m      2\u001b[0m x_dummy \u001b[38;5;241m=\u001b[39m torch\u001b[38;5;241m.\u001b[39mrand(\u001b[38;5;241m1\u001b[39m, \u001b[38;5;241m9\u001b[39m)\n\u001b[0;32m----> 3\u001b[0m y_dummy \u001b[38;5;241m=\u001b[39m \u001b[43mmodel\u001b[49m\u001b[43m(\u001b[49m\u001b[43mx_dummy\u001b[49m\u001b[43m)\u001b[49m\n",
      "File \u001b[0;32m~/Documents/ECEGR4750/ECEGR4750/.venv/lib/python3.9/site-packages/torch/nn/modules/module.py:1518\u001b[0m, in \u001b[0;36mModule._wrapped_call_impl\u001b[0;34m(self, *args, **kwargs)\u001b[0m\n\u001b[1;32m   1516\u001b[0m     \u001b[38;5;28;01mreturn\u001b[39;00m \u001b[38;5;28mself\u001b[39m\u001b[38;5;241m.\u001b[39m_compiled_call_impl(\u001b[38;5;241m*\u001b[39margs, \u001b[38;5;241m*\u001b[39m\u001b[38;5;241m*\u001b[39mkwargs)  \u001b[38;5;66;03m# type: ignore[misc]\u001b[39;00m\n\u001b[1;32m   1517\u001b[0m \u001b[38;5;28;01melse\u001b[39;00m:\n\u001b[0;32m-> 1518\u001b[0m     \u001b[38;5;28;01mreturn\u001b[39;00m \u001b[38;5;28;43mself\u001b[39;49m\u001b[38;5;241;43m.\u001b[39;49m\u001b[43m_call_impl\u001b[49m\u001b[43m(\u001b[49m\u001b[38;5;241;43m*\u001b[39;49m\u001b[43margs\u001b[49m\u001b[43m,\u001b[49m\u001b[43m \u001b[49m\u001b[38;5;241;43m*\u001b[39;49m\u001b[38;5;241;43m*\u001b[39;49m\u001b[43mkwargs\u001b[49m\u001b[43m)\u001b[49m\n",
      "File \u001b[0;32m~/Documents/ECEGR4750/ECEGR4750/.venv/lib/python3.9/site-packages/torch/nn/modules/module.py:1527\u001b[0m, in \u001b[0;36mModule._call_impl\u001b[0;34m(self, *args, **kwargs)\u001b[0m\n\u001b[1;32m   1522\u001b[0m \u001b[38;5;66;03m# If we don't have any hooks, we want to skip the rest of the logic in\u001b[39;00m\n\u001b[1;32m   1523\u001b[0m \u001b[38;5;66;03m# this function, and just call forward.\u001b[39;00m\n\u001b[1;32m   1524\u001b[0m \u001b[38;5;28;01mif\u001b[39;00m \u001b[38;5;129;01mnot\u001b[39;00m (\u001b[38;5;28mself\u001b[39m\u001b[38;5;241m.\u001b[39m_backward_hooks \u001b[38;5;129;01mor\u001b[39;00m \u001b[38;5;28mself\u001b[39m\u001b[38;5;241m.\u001b[39m_backward_pre_hooks \u001b[38;5;129;01mor\u001b[39;00m \u001b[38;5;28mself\u001b[39m\u001b[38;5;241m.\u001b[39m_forward_hooks \u001b[38;5;129;01mor\u001b[39;00m \u001b[38;5;28mself\u001b[39m\u001b[38;5;241m.\u001b[39m_forward_pre_hooks\n\u001b[1;32m   1525\u001b[0m         \u001b[38;5;129;01mor\u001b[39;00m _global_backward_pre_hooks \u001b[38;5;129;01mor\u001b[39;00m _global_backward_hooks\n\u001b[1;32m   1526\u001b[0m         \u001b[38;5;129;01mor\u001b[39;00m _global_forward_hooks \u001b[38;5;129;01mor\u001b[39;00m _global_forward_pre_hooks):\n\u001b[0;32m-> 1527\u001b[0m     \u001b[38;5;28;01mreturn\u001b[39;00m \u001b[43mforward_call\u001b[49m\u001b[43m(\u001b[49m\u001b[38;5;241;43m*\u001b[39;49m\u001b[43margs\u001b[49m\u001b[43m,\u001b[49m\u001b[43m \u001b[49m\u001b[38;5;241;43m*\u001b[39;49m\u001b[38;5;241;43m*\u001b[39;49m\u001b[43mkwargs\u001b[49m\u001b[43m)\u001b[49m\n\u001b[1;32m   1529\u001b[0m \u001b[38;5;28;01mtry\u001b[39;00m:\n\u001b[1;32m   1530\u001b[0m     result \u001b[38;5;241m=\u001b[39m \u001b[38;5;28;01mNone\u001b[39;00m\n",
      "Cell \u001b[0;32mIn[5], line 20\u001b[0m, in \u001b[0;36mLearningModel.forward\u001b[0;34m(self, x)\u001b[0m\n\u001b[1;32m     19\u001b[0m \u001b[38;5;28;01mdef\u001b[39;00m \u001b[38;5;21mforward\u001b[39m(\u001b[38;5;28mself\u001b[39m, x):\n\u001b[0;32m---> 20\u001b[0m     x \u001b[38;5;241m=\u001b[39m \u001b[38;5;28;43mself\u001b[39;49m\u001b[38;5;241;43m.\u001b[39;49m\u001b[43mlinear1\u001b[49m\u001b[43m(\u001b[49m\u001b[43mx\u001b[49m\u001b[43m)\u001b[49m\n\u001b[1;32m     21\u001b[0m     x \u001b[38;5;241m=\u001b[39m \u001b[38;5;28mself\u001b[39m\u001b[38;5;241m.\u001b[39mrelu(x)\n\u001b[1;32m     22\u001b[0m     x \u001b[38;5;241m=\u001b[39m \u001b[38;5;28mself\u001b[39m\u001b[38;5;241m.\u001b[39mlinear2(x)\n",
      "File \u001b[0;32m~/Documents/ECEGR4750/ECEGR4750/.venv/lib/python3.9/site-packages/torch/nn/modules/module.py:1518\u001b[0m, in \u001b[0;36mModule._wrapped_call_impl\u001b[0;34m(self, *args, **kwargs)\u001b[0m\n\u001b[1;32m   1516\u001b[0m     \u001b[38;5;28;01mreturn\u001b[39;00m \u001b[38;5;28mself\u001b[39m\u001b[38;5;241m.\u001b[39m_compiled_call_impl(\u001b[38;5;241m*\u001b[39margs, \u001b[38;5;241m*\u001b[39m\u001b[38;5;241m*\u001b[39mkwargs)  \u001b[38;5;66;03m# type: ignore[misc]\u001b[39;00m\n\u001b[1;32m   1517\u001b[0m \u001b[38;5;28;01melse\u001b[39;00m:\n\u001b[0;32m-> 1518\u001b[0m     \u001b[38;5;28;01mreturn\u001b[39;00m \u001b[38;5;28;43mself\u001b[39;49m\u001b[38;5;241;43m.\u001b[39;49m\u001b[43m_call_impl\u001b[49m\u001b[43m(\u001b[49m\u001b[38;5;241;43m*\u001b[39;49m\u001b[43margs\u001b[49m\u001b[43m,\u001b[49m\u001b[43m \u001b[49m\u001b[38;5;241;43m*\u001b[39;49m\u001b[38;5;241;43m*\u001b[39;49m\u001b[43mkwargs\u001b[49m\u001b[43m)\u001b[49m\n",
      "File \u001b[0;32m~/Documents/ECEGR4750/ECEGR4750/.venv/lib/python3.9/site-packages/torch/nn/modules/module.py:1527\u001b[0m, in \u001b[0;36mModule._call_impl\u001b[0;34m(self, *args, **kwargs)\u001b[0m\n\u001b[1;32m   1522\u001b[0m \u001b[38;5;66;03m# If we don't have any hooks, we want to skip the rest of the logic in\u001b[39;00m\n\u001b[1;32m   1523\u001b[0m \u001b[38;5;66;03m# this function, and just call forward.\u001b[39;00m\n\u001b[1;32m   1524\u001b[0m \u001b[38;5;28;01mif\u001b[39;00m \u001b[38;5;129;01mnot\u001b[39;00m (\u001b[38;5;28mself\u001b[39m\u001b[38;5;241m.\u001b[39m_backward_hooks \u001b[38;5;129;01mor\u001b[39;00m \u001b[38;5;28mself\u001b[39m\u001b[38;5;241m.\u001b[39m_backward_pre_hooks \u001b[38;5;129;01mor\u001b[39;00m \u001b[38;5;28mself\u001b[39m\u001b[38;5;241m.\u001b[39m_forward_hooks \u001b[38;5;129;01mor\u001b[39;00m \u001b[38;5;28mself\u001b[39m\u001b[38;5;241m.\u001b[39m_forward_pre_hooks\n\u001b[1;32m   1525\u001b[0m         \u001b[38;5;129;01mor\u001b[39;00m _global_backward_pre_hooks \u001b[38;5;129;01mor\u001b[39;00m _global_backward_hooks\n\u001b[1;32m   1526\u001b[0m         \u001b[38;5;129;01mor\u001b[39;00m _global_forward_hooks \u001b[38;5;129;01mor\u001b[39;00m _global_forward_pre_hooks):\n\u001b[0;32m-> 1527\u001b[0m     \u001b[38;5;28;01mreturn\u001b[39;00m \u001b[43mforward_call\u001b[49m\u001b[43m(\u001b[49m\u001b[38;5;241;43m*\u001b[39;49m\u001b[43margs\u001b[49m\u001b[43m,\u001b[49m\u001b[43m \u001b[49m\u001b[38;5;241;43m*\u001b[39;49m\u001b[38;5;241;43m*\u001b[39;49m\u001b[43mkwargs\u001b[49m\u001b[43m)\u001b[49m\n\u001b[1;32m   1529\u001b[0m \u001b[38;5;28;01mtry\u001b[39;00m:\n\u001b[1;32m   1530\u001b[0m     result \u001b[38;5;241m=\u001b[39m \u001b[38;5;28;01mNone\u001b[39;00m\n",
      "File \u001b[0;32m~/Documents/ECEGR4750/ECEGR4750/.venv/lib/python3.9/site-packages/torch/nn/modules/linear.py:114\u001b[0m, in \u001b[0;36mLinear.forward\u001b[0;34m(self, input)\u001b[0m\n\u001b[1;32m    113\u001b[0m \u001b[38;5;28;01mdef\u001b[39;00m \u001b[38;5;21mforward\u001b[39m(\u001b[38;5;28mself\u001b[39m, \u001b[38;5;28minput\u001b[39m: Tensor) \u001b[38;5;241m-\u001b[39m\u001b[38;5;241m>\u001b[39m Tensor:\n\u001b[0;32m--> 114\u001b[0m     \u001b[38;5;28;01mreturn\u001b[39;00m \u001b[43mF\u001b[49m\u001b[38;5;241;43m.\u001b[39;49m\u001b[43mlinear\u001b[49m\u001b[43m(\u001b[49m\u001b[38;5;28;43minput\u001b[39;49m\u001b[43m,\u001b[49m\u001b[43m \u001b[49m\u001b[38;5;28;43mself\u001b[39;49m\u001b[38;5;241;43m.\u001b[39;49m\u001b[43mweight\u001b[49m\u001b[43m,\u001b[49m\u001b[43m \u001b[49m\u001b[38;5;28;43mself\u001b[39;49m\u001b[38;5;241;43m.\u001b[39;49m\u001b[43mbias\u001b[49m\u001b[43m)\u001b[49m\n",
      "\u001b[0;31mRuntimeError\u001b[0m: mat1 and mat2 shapes cannot be multiplied (1x9 and 10x64)"
     ]
    }
   ],
   "source": [
    "# see what happens if we pass the wrong size data through. this is an error you will see a lot in model development!\n",
    "x_dummy = torch.rand(1, 9)\n",
    "y_dummy = model(x_dummy)"
   ]
  },
  {
   "cell_type": "code",
   "execution_count": 9,
   "metadata": {},
   "outputs": [
    {
     "ename": "TypeError",
     "evalue": "linear(): argument 'input' (position 1) must be Tensor, not numpy.ndarray",
     "output_type": "error",
     "traceback": [
      "\u001b[0;31m---------------------------------------------------------------------------\u001b[0m",
      "\u001b[0;31mTypeError\u001b[0m                                 Traceback (most recent call last)",
      "Cell \u001b[0;32mIn[9], line 3\u001b[0m\n\u001b[1;32m      1\u001b[0m \u001b[38;5;66;03m# see what happens if we pass a numpy array through\u001b[39;00m\n\u001b[1;32m      2\u001b[0m x_dummy \u001b[38;5;241m=\u001b[39m np\u001b[38;5;241m.\u001b[39mrandom\u001b[38;5;241m.\u001b[39mnormal(\u001b[38;5;241m0\u001b[39m, \u001b[38;5;241m1\u001b[39m, (\u001b[38;5;241m1\u001b[39m, \u001b[38;5;241m9\u001b[39m))\n\u001b[0;32m----> 3\u001b[0m y_dummy \u001b[38;5;241m=\u001b[39m \u001b[43mmodel\u001b[49m\u001b[43m(\u001b[49m\u001b[43mx_dummy\u001b[49m\u001b[43m)\u001b[49m\n",
      "File \u001b[0;32m~/Documents/ECEGR4750/ECEGR4750/.venv/lib/python3.9/site-packages/torch/nn/modules/module.py:1518\u001b[0m, in \u001b[0;36mModule._wrapped_call_impl\u001b[0;34m(self, *args, **kwargs)\u001b[0m\n\u001b[1;32m   1516\u001b[0m     \u001b[38;5;28;01mreturn\u001b[39;00m \u001b[38;5;28mself\u001b[39m\u001b[38;5;241m.\u001b[39m_compiled_call_impl(\u001b[38;5;241m*\u001b[39margs, \u001b[38;5;241m*\u001b[39m\u001b[38;5;241m*\u001b[39mkwargs)  \u001b[38;5;66;03m# type: ignore[misc]\u001b[39;00m\n\u001b[1;32m   1517\u001b[0m \u001b[38;5;28;01melse\u001b[39;00m:\n\u001b[0;32m-> 1518\u001b[0m     \u001b[38;5;28;01mreturn\u001b[39;00m \u001b[38;5;28;43mself\u001b[39;49m\u001b[38;5;241;43m.\u001b[39;49m\u001b[43m_call_impl\u001b[49m\u001b[43m(\u001b[49m\u001b[38;5;241;43m*\u001b[39;49m\u001b[43margs\u001b[49m\u001b[43m,\u001b[49m\u001b[43m \u001b[49m\u001b[38;5;241;43m*\u001b[39;49m\u001b[38;5;241;43m*\u001b[39;49m\u001b[43mkwargs\u001b[49m\u001b[43m)\u001b[49m\n",
      "File \u001b[0;32m~/Documents/ECEGR4750/ECEGR4750/.venv/lib/python3.9/site-packages/torch/nn/modules/module.py:1527\u001b[0m, in \u001b[0;36mModule._call_impl\u001b[0;34m(self, *args, **kwargs)\u001b[0m\n\u001b[1;32m   1522\u001b[0m \u001b[38;5;66;03m# If we don't have any hooks, we want to skip the rest of the logic in\u001b[39;00m\n\u001b[1;32m   1523\u001b[0m \u001b[38;5;66;03m# this function, and just call forward.\u001b[39;00m\n\u001b[1;32m   1524\u001b[0m \u001b[38;5;28;01mif\u001b[39;00m \u001b[38;5;129;01mnot\u001b[39;00m (\u001b[38;5;28mself\u001b[39m\u001b[38;5;241m.\u001b[39m_backward_hooks \u001b[38;5;129;01mor\u001b[39;00m \u001b[38;5;28mself\u001b[39m\u001b[38;5;241m.\u001b[39m_backward_pre_hooks \u001b[38;5;129;01mor\u001b[39;00m \u001b[38;5;28mself\u001b[39m\u001b[38;5;241m.\u001b[39m_forward_hooks \u001b[38;5;129;01mor\u001b[39;00m \u001b[38;5;28mself\u001b[39m\u001b[38;5;241m.\u001b[39m_forward_pre_hooks\n\u001b[1;32m   1525\u001b[0m         \u001b[38;5;129;01mor\u001b[39;00m _global_backward_pre_hooks \u001b[38;5;129;01mor\u001b[39;00m _global_backward_hooks\n\u001b[1;32m   1526\u001b[0m         \u001b[38;5;129;01mor\u001b[39;00m _global_forward_hooks \u001b[38;5;129;01mor\u001b[39;00m _global_forward_pre_hooks):\n\u001b[0;32m-> 1527\u001b[0m     \u001b[38;5;28;01mreturn\u001b[39;00m \u001b[43mforward_call\u001b[49m\u001b[43m(\u001b[49m\u001b[38;5;241;43m*\u001b[39;49m\u001b[43margs\u001b[49m\u001b[43m,\u001b[49m\u001b[43m \u001b[49m\u001b[38;5;241;43m*\u001b[39;49m\u001b[38;5;241;43m*\u001b[39;49m\u001b[43mkwargs\u001b[49m\u001b[43m)\u001b[49m\n\u001b[1;32m   1529\u001b[0m \u001b[38;5;28;01mtry\u001b[39;00m:\n\u001b[1;32m   1530\u001b[0m     result \u001b[38;5;241m=\u001b[39m \u001b[38;5;28;01mNone\u001b[39;00m\n",
      "Cell \u001b[0;32mIn[5], line 20\u001b[0m, in \u001b[0;36mLearningModel.forward\u001b[0;34m(self, x)\u001b[0m\n\u001b[1;32m     19\u001b[0m \u001b[38;5;28;01mdef\u001b[39;00m \u001b[38;5;21mforward\u001b[39m(\u001b[38;5;28mself\u001b[39m, x):\n\u001b[0;32m---> 20\u001b[0m     x \u001b[38;5;241m=\u001b[39m \u001b[38;5;28;43mself\u001b[39;49m\u001b[38;5;241;43m.\u001b[39;49m\u001b[43mlinear1\u001b[49m\u001b[43m(\u001b[49m\u001b[43mx\u001b[49m\u001b[43m)\u001b[49m\n\u001b[1;32m     21\u001b[0m     x \u001b[38;5;241m=\u001b[39m \u001b[38;5;28mself\u001b[39m\u001b[38;5;241m.\u001b[39mrelu(x)\n\u001b[1;32m     22\u001b[0m     x \u001b[38;5;241m=\u001b[39m \u001b[38;5;28mself\u001b[39m\u001b[38;5;241m.\u001b[39mlinear2(x)\n",
      "File \u001b[0;32m~/Documents/ECEGR4750/ECEGR4750/.venv/lib/python3.9/site-packages/torch/nn/modules/module.py:1518\u001b[0m, in \u001b[0;36mModule._wrapped_call_impl\u001b[0;34m(self, *args, **kwargs)\u001b[0m\n\u001b[1;32m   1516\u001b[0m     \u001b[38;5;28;01mreturn\u001b[39;00m \u001b[38;5;28mself\u001b[39m\u001b[38;5;241m.\u001b[39m_compiled_call_impl(\u001b[38;5;241m*\u001b[39margs, \u001b[38;5;241m*\u001b[39m\u001b[38;5;241m*\u001b[39mkwargs)  \u001b[38;5;66;03m# type: ignore[misc]\u001b[39;00m\n\u001b[1;32m   1517\u001b[0m \u001b[38;5;28;01melse\u001b[39;00m:\n\u001b[0;32m-> 1518\u001b[0m     \u001b[38;5;28;01mreturn\u001b[39;00m \u001b[38;5;28;43mself\u001b[39;49m\u001b[38;5;241;43m.\u001b[39;49m\u001b[43m_call_impl\u001b[49m\u001b[43m(\u001b[49m\u001b[38;5;241;43m*\u001b[39;49m\u001b[43margs\u001b[49m\u001b[43m,\u001b[49m\u001b[43m \u001b[49m\u001b[38;5;241;43m*\u001b[39;49m\u001b[38;5;241;43m*\u001b[39;49m\u001b[43mkwargs\u001b[49m\u001b[43m)\u001b[49m\n",
      "File \u001b[0;32m~/Documents/ECEGR4750/ECEGR4750/.venv/lib/python3.9/site-packages/torch/nn/modules/module.py:1527\u001b[0m, in \u001b[0;36mModule._call_impl\u001b[0;34m(self, *args, **kwargs)\u001b[0m\n\u001b[1;32m   1522\u001b[0m \u001b[38;5;66;03m# If we don't have any hooks, we want to skip the rest of the logic in\u001b[39;00m\n\u001b[1;32m   1523\u001b[0m \u001b[38;5;66;03m# this function, and just call forward.\u001b[39;00m\n\u001b[1;32m   1524\u001b[0m \u001b[38;5;28;01mif\u001b[39;00m \u001b[38;5;129;01mnot\u001b[39;00m (\u001b[38;5;28mself\u001b[39m\u001b[38;5;241m.\u001b[39m_backward_hooks \u001b[38;5;129;01mor\u001b[39;00m \u001b[38;5;28mself\u001b[39m\u001b[38;5;241m.\u001b[39m_backward_pre_hooks \u001b[38;5;129;01mor\u001b[39;00m \u001b[38;5;28mself\u001b[39m\u001b[38;5;241m.\u001b[39m_forward_hooks \u001b[38;5;129;01mor\u001b[39;00m \u001b[38;5;28mself\u001b[39m\u001b[38;5;241m.\u001b[39m_forward_pre_hooks\n\u001b[1;32m   1525\u001b[0m         \u001b[38;5;129;01mor\u001b[39;00m _global_backward_pre_hooks \u001b[38;5;129;01mor\u001b[39;00m _global_backward_hooks\n\u001b[1;32m   1526\u001b[0m         \u001b[38;5;129;01mor\u001b[39;00m _global_forward_hooks \u001b[38;5;129;01mor\u001b[39;00m _global_forward_pre_hooks):\n\u001b[0;32m-> 1527\u001b[0m     \u001b[38;5;28;01mreturn\u001b[39;00m \u001b[43mforward_call\u001b[49m\u001b[43m(\u001b[49m\u001b[38;5;241;43m*\u001b[39;49m\u001b[43margs\u001b[49m\u001b[43m,\u001b[49m\u001b[43m \u001b[49m\u001b[38;5;241;43m*\u001b[39;49m\u001b[38;5;241;43m*\u001b[39;49m\u001b[43mkwargs\u001b[49m\u001b[43m)\u001b[49m\n\u001b[1;32m   1529\u001b[0m \u001b[38;5;28;01mtry\u001b[39;00m:\n\u001b[1;32m   1530\u001b[0m     result \u001b[38;5;241m=\u001b[39m \u001b[38;5;28;01mNone\u001b[39;00m\n",
      "File \u001b[0;32m~/Documents/ECEGR4750/ECEGR4750/.venv/lib/python3.9/site-packages/torch/nn/modules/linear.py:114\u001b[0m, in \u001b[0;36mLinear.forward\u001b[0;34m(self, input)\u001b[0m\n\u001b[1;32m    113\u001b[0m \u001b[38;5;28;01mdef\u001b[39;00m \u001b[38;5;21mforward\u001b[39m(\u001b[38;5;28mself\u001b[39m, \u001b[38;5;28minput\u001b[39m: Tensor) \u001b[38;5;241m-\u001b[39m\u001b[38;5;241m>\u001b[39m Tensor:\n\u001b[0;32m--> 114\u001b[0m     \u001b[38;5;28;01mreturn\u001b[39;00m \u001b[43mF\u001b[49m\u001b[38;5;241;43m.\u001b[39;49m\u001b[43mlinear\u001b[49m\u001b[43m(\u001b[49m\u001b[38;5;28;43minput\u001b[39;49m\u001b[43m,\u001b[49m\u001b[43m \u001b[49m\u001b[38;5;28;43mself\u001b[39;49m\u001b[38;5;241;43m.\u001b[39;49m\u001b[43mweight\u001b[49m\u001b[43m,\u001b[49m\u001b[43m \u001b[49m\u001b[38;5;28;43mself\u001b[39;49m\u001b[38;5;241;43m.\u001b[39;49m\u001b[43mbias\u001b[49m\u001b[43m)\u001b[49m\n",
      "\u001b[0;31mTypeError\u001b[0m: linear(): argument 'input' (position 1) must be Tensor, not numpy.ndarray"
     ]
    }
   ],
   "source": [
    "# see what happens if we pass a numpy array through\n",
    "x_dummy = np.random.normal(0, 1, (1, 9))\n",
    "y_dummy = model(x_dummy)"
   ]
  },
  {
   "cell_type": "markdown",
   "metadata": {},
   "source": [
    "Put some `print(x.shape)` statements in your forward function and observe how the data changes shape as it passes through the model.\n",
    "\n",
    "-----------------------\n",
    "\n",
    "### Model training"
   ]
  },
  {
   "cell_type": "code",
   "execution_count": 10,
   "metadata": {},
   "outputs": [
    {
     "name": "stderr",
     "output_type": "stream",
     "text": [
      "100%|█████████████████████████████████████████| 200/200 [00:11<00:00, 16.80it/s]\n"
     ]
    }
   ],
   "source": [
    "import tqdm # handy way to visualize long jobs. pip install tqdm if you don't have this yet\n",
    "\n",
    "# re-instantiate our model\n",
    "model = LearningModel()\n",
    "\n",
    "# define our optimizer. this is what our model will use to update its weights\n",
    "# we will use the Adam optimizer, which is a well established method https://arxiv.org/pdf/1412.6980.pdf\n",
    "# we will set the learning rate and pass our model's parameters to the optimizer\n",
    "optimizer = torch.optim.Adam(model.parameters(), lr = 1e-4) # set learning rate\n",
    "\n",
    "# set up our training loop. we will do SGD, so one sample at a time\n",
    "epochs = 200\n",
    "train_loss = []\n",
    "val_loss = []\n",
    "\n",
    "for _ in tqdm.tqdm(range(epochs)):\n",
    "\n",
    "    # iterate through an entire epoch of training data\n",
    "    it_loss = []\n",
    "    model.train() # setting mode of model to train\n",
    "    for idx in range(len(x_train)):\n",
    "\n",
    "        # clear out the gradient from prior backward passes\n",
    "        optimizer.zero_grad()\n",
    "\n",
    "        # get the model's prediction for that sample\n",
    "        yhat = model(x_train[idx]) \n",
    "\n",
    "        # calculate loss using MAE\n",
    "        loss = torch.mean(torch.abs(y_train[idx] - yhat))\n",
    "\n",
    "        # because loss is a tensor that passed through our model, it automatically tracks its history\n",
    "        # we can calculate the gradient quite simply\n",
    "        # this computes the gradient of the model parameters that this tensor operated with\n",
    "        loss.backward() \n",
    "\n",
    "        # this updates the model's parameters \n",
    "        optimizer.step()\n",
    "\n",
    "        # log the loss\n",
    "        # first, \"detach\" the loss from the computation graph (the thing that tracks the model parameters)\n",
    "        # second, convert it to a numpy array\n",
    "        it_loss.append(loss.detach().numpy())\n",
    "        \n",
    "\n",
    "    # calculate and append the loss for the entire epoch\n",
    "    train_loss.append(np.mean(it_loss))\n",
    "\n",
    "    # pass the validation data through the model, all at once, and calculate its loss (but DONT update weights!)\n",
    "    model.eval() # setting mode of model to eval\n",
    "    optimizer.zero_grad()\n",
    "    yhat = model(x_val)\n",
    "    loss = torch.mean(torch.abs(y_val - yhat))\n",
    "    val_loss.append(loss)"
   ]
  },
  {
   "cell_type": "markdown",
   "metadata": {},
   "source": [
    "Visualize training and validation loss throughout training. Because loss alone is difficult to interpret, check to see if the model's predictions are lining up reasonably with the target values."
   ]
  },
  {
   "cell_type": "code",
   "execution_count": null,
   "metadata": {},
   "outputs": [],
   "source": [
    "import matplotlib.pyplot as plt\n",
    "\n",
    "print(val_loss[-1], train_loss[-1])\n",
    "\n",
    "plt.figure(0, figsize = (12,6))\n",
    "plt.title('Loss per epoch')\n",
    "plt.xlabel('Epoch')\n",
    "plt.ylabel('Loss')\n",
    "plt.plot(train_loss)\n",
    "plt.plot([v.detach().numpy() for v in val_loss])\n",
    "plt.legend([\"Training loss\",\"Validation loss\"])\n",
    "\n",
    "fig, axs = plt.subplots(1,2, figsize=(12,6));\n",
    "axs[0].scatter(model(x_train).detach().numpy(), y_train, color = 'blue')\n",
    "axs[0].plot([0,300],[0,300], color = 'red', linestyle = '--')\n",
    "axs[0].set_title('Training Data')\n",
    "axs[0].set_xlabel('Real')\n",
    "axs[0].set_ylabel('Predicted')\n",
    "axs[1].scatter(model(x_val).detach().numpy(), y_val, color = 'orange')\n",
    "axs[1].plot([0,300],[0,300], color = 'red', linestyle = '--')\n",
    "axs[1].set_title('Validation Data')\n",
    "axs[1].set_xlabel('Real')\n",
    "axs[1].set_ylabel('Predicted')"
   ]
  },
  {
   "cell_type": "markdown",
   "metadata": {},
   "source": [
    "Congrats! First model trained!\n",
    "\n",
    "How many times were your model's parameters updated?\n",
    "\n",
    "- answer: if doing SGD like above, its len(train_data) * num_epochs\n",
    "\n",
    "How should you interpret the training and validation loss curves above?\n",
    "\n",
    "- answer: when train_loss < val_loss, the model is overfit to training data. the point at which validation loss is at its minimum is one criteria to choose when to stop your model. this criteria can change depending on what you value about your model.\n",
    "\n",
    "------------------------------------------\n",
    "\n",
    "### Model Experimentation\n",
    "\n",
    "Take some time and experiment with a few things. With each experiment, try running the training loop with the fixed values provided above.\n",
    "\n",
    "- \"Hidden size\" of the model, or number of units in each layer (as long as input and output are right sizes, nothing else matters)\n",
    "- Add or reduce the number of layers in the model.\n",
    "- Try other activation functions, like `nn.ELU` or `nn.Tanh` or anything from this https://pytorch.org/docs/stable/nn.html#non-linear-activations-weighted-sum-nonlinearity\n",
    "- Try implementing dropout in the model with `nn.Dropout`. Every forward pass, it chooses a subset of units in the tensor to zero out. This mitigates overfitting by preventing the model from effectively memorizing the data. Note that when it comes time to actually predict your data outside of training, you should call `model.eval()` to turn dropout off. `model.train()` will turn it back on.\n",
    "\n",
    "### Training Experimentation\n",
    "\n",
    "You can also experiment with the training routine. Once you have found a model architecture you like, try this out:\n",
    "\n",
    "- `torch.optim.Adam` is just one optimizer, you can try others found here https://pytorch.org/docs/stable/optim.html.\n",
    "- Learning rate has a huge impact on training. Try setting it anywhere from 1e-1 to 1e-6 and see how it changes convergence.\n",
    "- Batch gradient descent changes how quickly the model learns. This dataset should be small enough to fit into memory all at once, so safe to pass the entire train set in at once.\n",
    "- Try implementing an \"early stopping\" routine, where training is aborted once some criteria is met."
   ]
  },
  {
   "cell_type": "code",
   "execution_count": null,
   "metadata": {},
   "outputs": [],
   "source": [
    "# use this space for experimentation\n",
    "\n",
    "\n",
    "\n",
    "\n",
    "\n",
    "\n",
    "\n",
    "\n",
    "\n",
    "\n",
    "\n",
    "\n",
    "\n",
    "\n",
    "\n",
    "\n",
    "\n",
    "\n",
    "\n",
    "\n",
    "\n",
    "\n",
    "\n",
    "\n",
    "\n"
   ]
  },
  {
   "cell_type": "markdown",
   "metadata": {},
   "source": [
    "### Test set\n",
    "\n",
    "You now have a cool model that you have tinkered on and found a set of hyperparameters that give you good performance on your validation data. Now, we need to see how well the model performs on 100% unseen data, our test data.\n",
    "\n",
    "Looking at this test data beforehand can bias us dramatically. On a simple dataset like this, hyperparameters may not have a huge impact on the overall model, so the potential negative effect is small. On harder datasets with more complex models, choices of parameters can have a make or break impact on if the model will actually succeed in a real life application."
   ]
  },
  {
   "cell_type": "code",
   "execution_count": null,
   "metadata": {},
   "outputs": [],
   "source": [
    "# Check to see how our model performs on training data, validation data, and test data\n",
    "yhat_train = model(x_train).detach().numpy()\n",
    "yhat_val = model(x_val).detach().numpy()\n",
    "yhat_test = model(x_test).detach().numpy()\n",
    "\n",
    "print('Train MAE:', np.mean(np.abs(yhat_train - y_train.numpy())))\n",
    "print('Val MAE:', np.mean(np.abs(yhat_val - y_val.numpy())))\n",
    "print('Test MAE:', np.mean(np.abs(yhat_test - y_test.numpy())))\n",
    "\n",
    "fig, axs = plt.subplots(1,3, figsize=(18,6));\n",
    "\n",
    "axs[0].scatter(yhat_train, y_train, color = 'blue')\n",
    "axs[0].plot([0,300],[0,300], color = 'red', linestyle = '--')\n",
    "axs[0].set_title('Training Data')\n",
    "axs[0].set_xlabel('Real')\n",
    "axs[0].set_ylabel('Predicted')\n",
    "\n",
    "axs[1].scatter(yhat_val, y_val, color = 'orange')\n",
    "axs[1].plot([0,300],[0,300], color = 'red', linestyle = '--')\n",
    "axs[1].set_title('Validation Data')\n",
    "axs[1].set_xlabel('Real')\n",
    "axs[1].set_ylabel('Predicted')\n",
    "\n",
    "axs[2].scatter(yhat_test, y_test, color = 'green')\n",
    "axs[2].plot([0,300],[0,300], color = 'red', linestyle = '--')\n",
    "axs[2].set_title('Test Data')\n",
    "axs[2].set_xlabel('Real')\n",
    "axs[2].set_ylabel('Predicted')"
   ]
  },
  {
   "cell_type": "code",
   "execution_count": null,
   "metadata": {},
   "outputs": [],
   "source": []
  }
 ],
 "metadata": {
  "kernelspec": {
   "display_name": "Python 3 (ipykernel)",
   "language": "python",
   "name": "python3"
  },
  "language_info": {
   "codemirror_mode": {
    "name": "ipython",
    "version": 3
   },
   "file_extension": ".py",
   "mimetype": "text/x-python",
   "name": "python",
   "nbconvert_exporter": "python",
   "pygments_lexer": "ipython3",
   "version": "3.9.6"
  }
 },
 "nbformat": 4,
 "nbformat_minor": 4
}

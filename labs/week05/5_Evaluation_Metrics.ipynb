{
 "cells": [
  {
   "cell_type": "markdown",
   "id": "df791c36-1afd-4a26-b784-9b1f9ebfa9e5",
   "metadata": {},
   "source": [
    "The materials for this lab is adapted from Jason Brownlee.\n",
    "\n",
    "## Binary Classification\n",
    "We are going to use the Pima Diabetes dataset to classify if an individual has diabetes or not based on the input features."
   ]
  },
  {
   "cell_type": "code",
   "execution_count": null,
   "id": "0889bdb3-e700-4833-b992-66b6564f8f40",
   "metadata": {},
   "outputs": [],
   "source": [
    "# Preparing the Dataset\n",
    "\n",
    "import pandas\n",
    "from sklearn import model_selection\n",
    "from sklearn.linear_model import LogisticRegression\n",
    "\n",
    "url = \"https://raw.githubusercontent.com/jbrownlee/Datasets/master/pima-indians-diabetes.data.csv\"\n",
    "names = ['preg', 'plas', 'pres', 'skin', 'test', 'mass', 'pedi', 'age', 'class']\n",
    "dataframe = pandas.read_csv(url, names=names)\n",
    "array = dataframe.values\n",
    "X = array[:,0:8]\n",
    "Y = array[:,8]"
   ]
  },
  {
   "cell_type": "code",
   "execution_count": null,
   "id": "b24fa3e7-82ab-416d-91a3-9a137fd8fba8",
   "metadata": {},
   "outputs": [],
   "source": [
    "# Running Logistic Regression Using sklearn"
   ]
  },
  {
   "cell_type": "code",
   "execution_count": null,
   "id": "9adaea2c-b501-4599-9ba2-928999f607cf",
   "metadata": {},
   "outputs": [],
   "source": []
  },
  {
   "cell_type": "markdown",
   "id": "b4aae30d-4828-4d6e-8992-1daf22041a0d",
   "metadata": {},
   "source": [
    "### 1. Accuracy"
   ]
  },
  {
   "cell_type": "code",
   "execution_count": null,
   "id": "f9af5c96-3bc0-47e7-899e-841c336e3303",
   "metadata": {},
   "outputs": [],
   "source": [
    "# Import the right sklearn function\n",
    "\n",
    "# Calculating using our own formula:\n",
    "# accuracy = \n",
    "\n",
    "# Calculating using sklearn built in function:\n",
    "# accuracy_sklearn = \n",
    "\n",
    "# print(f'Accuracy is {accuracy}, {accuracy_sklearn}')"
   ]
  },
  {
   "cell_type": "markdown",
   "id": "88aeefd9-6ca0-4345-85f0-84e1a7a69ac1",
   "metadata": {},
   "source": [
    "### 2. Confusion Matrix and Its Metrics"
   ]
  },
  {
   "cell_type": "code",
   "execution_count": null,
   "id": "7edc6f03-517c-42eb-b0a8-a143cd4aac66",
   "metadata": {},
   "outputs": [],
   "source": [
    "# Import, calculate, and print out the confusion matrix"
   ]
  },
  {
   "cell_type": "code",
   "execution_count": null,
   "id": "4ce9609f-7a78-4653-971a-a8bf16f93c9a",
   "metadata": {},
   "outputs": [],
   "source": [
    "# Import, calculate, and print out precision, recall, f1, etc"
   ]
  },
  {
   "cell_type": "markdown",
   "id": "963555fb-0c19-4167-a9a7-7acfe19035c5",
   "metadata": {},
   "source": [
    "### 3. Area under ROC"
   ]
  },
  {
   "cell_type": "code",
   "execution_count": null,
   "id": "c8cb97c2-ac38-44db-96ba-0c50b61b7470",
   "metadata": {},
   "outputs": [],
   "source": [
    "# Import the functions\n",
    "\n",
    "# Generate ROC curve\n",
    "\n",
    "# Plotting\n",
    "plt.figure(figsize=(10, 8))\n",
    "# plot ROC\n",
    "# plot random classifier\n",
    "plt.xlabel('False Positive Rate (1 - Specificity)')\n",
    "plt.ylabel('True Positive Rate (Sensitivity)')\n",
    "plt.title('Receiver Operating Characteristic (ROC) Curve')\n",
    "plt.grid(True)\n",
    "plt.show()\n",
    "\n",
    "# Calculate AUC"
   ]
  },
  {
   "cell_type": "markdown",
   "id": "02bfe653-38ad-4c43-bf76-ff2ae8607ac4",
   "metadata": {},
   "source": [
    "### 4. Area under PRC"
   ]
  },
  {
   "cell_type": "code",
   "execution_count": null,
   "id": "56a908cb-88a0-44a1-b0e6-f70be599481d",
   "metadata": {},
   "outputs": [],
   "source": [
    "# Import the functions\n",
    "\n",
    "# Generating PRC\n",
    "\n",
    "# Calculate baseline\n",
    "\n",
    "# Plotting\n",
    "plt.figure(figsize=(10, 8))\n",
    "# plot PRC\n",
    "# plot baseline\n",
    "plt.xlabel('Precision')\n",
    "plt.ylabel('Recall')\n",
    "plt.title('Precision Recall Curve (PRC)')\n",
    "plt.grid(True)\n",
    "plt.show()\n",
    "\n",
    "# Calculate AUPRC / AP"
   ]
  },
  {
   "cell_type": "markdown",
   "id": "9fdd01a1-5c44-43ad-8e00-36140c3febda",
   "metadata": {},
   "source": [
    "### 5. Log Loss"
   ]
  },
  {
   "cell_type": "code",
   "execution_count": null,
   "id": "1016f0ea-0ce5-403e-bb0d-b1d6860f19d7",
   "metadata": {},
   "outputs": [],
   "source": [
    "# Import log loss function, calculate, and print it out"
   ]
  },
  {
   "cell_type": "markdown",
   "id": "22bfd289-7e08-4f15-b0fc-a16b352e21d7",
   "metadata": {},
   "source": [
    "### 6. Brier Score"
   ]
  },
  {
   "cell_type": "code",
   "execution_count": null,
   "id": "97414ae0-c340-48bc-b47f-11c39292d14c",
   "metadata": {},
   "outputs": [],
   "source": [
    "# Import brier score function, calculate, and print it out"
   ]
  },
  {
   "cell_type": "code",
   "execution_count": null,
   "id": "ed0efb20-24a1-48d1-8719-1dde1ff4a38c",
   "metadata": {},
   "outputs": [],
   "source": []
  }
 ],
 "metadata": {
  "kernelspec": {
   "display_name": "Python 3 (ipykernel)",
   "language": "python",
   "name": "python3"
  },
  "language_info": {
   "codemirror_mode": {
    "name": "ipython",
    "version": 3
   },
   "file_extension": ".py",
   "mimetype": "text/x-python",
   "name": "python",
   "nbconvert_exporter": "python",
   "pygments_lexer": "ipython3",
   "version": "3.9.6"
  }
 },
 "nbformat": 4,
 "nbformat_minor": 5
}

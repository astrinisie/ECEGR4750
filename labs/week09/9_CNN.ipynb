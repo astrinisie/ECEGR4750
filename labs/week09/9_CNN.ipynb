{
 "cells": [
  {
   "cell_type": "markdown",
   "metadata": {},
   "source": [
    "# Convolutional Neural Nets\n",
    "\n",
    "CNNs are designed to learn from spatial data - including images, 3d volumes, graphs, and more. For simplicity, we will focus on the application to image data."
   ]
  },
  {
   "cell_type": "code",
   "execution_count": 1,
   "metadata": {},
   "outputs": [],
   "source": [
    "from sklearn.datasets import load_digits\n",
    "import matplotlib.pyplot as plt\n",
    "import numpy as np\n",
    "import torch\n",
    "import torch.nn as nn"
   ]
  },
  {
   "cell_type": "markdown",
   "metadata": {},
   "source": [
    "First, let's grab an example image, use a CNN layer to process it, and see if we can calculate the output image."
   ]
  },
  {
   "cell_type": "code",
   "execution_count": 2,
   "metadata": {},
   "outputs": [
    {
     "name": "stdout",
     "output_type": "stream",
     "text": [
      "[[ 0.  0.  5. 13.  9.  1.  0.  0.]\n",
      " [ 0.  0. 13. 15. 10. 15.  5.  0.]\n",
      " [ 0.  3. 15.  2.  0. 11.  8.  0.]\n",
      " [ 0.  4. 12.  0.  0.  8.  8.  0.]\n",
      " [ 0.  5.  8.  0.  0.  9.  8.  0.]\n",
      " [ 0.  4. 11.  0.  1. 12.  7.  0.]\n",
      " [ 0.  2. 14.  5. 10. 12.  0.  0.]\n",
      " [ 0.  0.  6. 13. 10.  0.  0.  0.]]\n"
     ]
    },
    {
     "data": {
      "text/plain": [
       "<matplotlib.image.AxesImage at 0x167d6ec70>"
      ]
     },
     "execution_count": 2,
     "metadata": {},
     "output_type": "execute_result"
    },
    {
     "data": {
      "image/png": "[encoded data removed]",
      "text/plain": [
       "<Figure size 640x480 with 1 Axes>"
      ]
     },
     "metadata": {},
     "output_type": "display_data"
    }
   ],
   "source": [
    "data = load_digits()\n",
    "image = data['data'][0,:] # images are packed as 1d vectors\n",
    "image = np.reshape(image, (8,8)) #reshape to be a 2d matrix\n",
    "print(image)\n",
    "plt.imshow(image, cmap='gray')"
   ]
  },
  {
   "cell_type": "markdown",
   "metadata": {},
   "source": [
    "Image data is represented on a per-pixel basis, so that each pixel is encoded with a brightness value. For color images, each pixel is encoded with an RGB value.\n",
    "\n",
    "Our CNN layer will slide a window across the image and produce a value at each step. The CNN has several parameters that can be specified to control how it scans.\n",
    "\n",
    "    Kernel size: how large the window is, in pixels.\n",
    "    Stride: how many pixels are skipped before each convolution is taken\n",
    "    Padding: whether extra pixels are added to the edges of images or not\n",
    "\n",
    "From these parameters, you can calculate the exact dimensions of the output image. Let's try some examples."
   ]
  },
  {
   "cell_type": "code",
   "execution_count": 3,
   "metadata": {},
   "outputs": [],
   "source": [
    "# prepare our data for our CNN. a torch CNN expects data to follow this format\n",
    "# [batch_size, channels, pixels horizontal, pixels vertical]\n",
    "image = np.reshape(image, (1, 1, 8, 8))\n",
    "image = torch.tensor(image, dtype = torch.float32)"
   ]
  },
  {
   "cell_type": "code",
   "execution_count": 4,
   "metadata": {},
   "outputs": [
    {
     "name": "stdout",
     "output_type": "stream",
     "text": [
      "torch.Size([1, 1, 6, 6])\n"
     ]
    }
   ],
   "source": [
    "conv = nn.Conv2d(\n",
    "    in_channels = 1, # our image is black and white, so only 1 channel (RGB has 3 channels)\n",
    "    out_channels = 1, # or number of kernels to train\n",
    "    kernel_size = (3, 3), # the window is of size 3x3\n",
    "    stride = (1, 1), # only move one pixel between convolutions\n",
    "    padding = (0, 0) # amount of extra pixels to add to the top and sides of our image\n",
    ")\n",
    "\n",
    "# pass the image through our CNN. what will be the shape of the output?\n",
    "output = conv(image)\n",
    "print(output.shape)"
   ]
  },
  {
   "cell_type": "markdown",
   "metadata": {},
   "source": [
    "Given our image's input shape (8x8), or any image's shape, could we calculate the output from a given `Conv2d` layer ahead of time?\n",
    "\n",
    "Try writing the formula to do this by hand"
   ]
  },
  {
   "cell_type": "code",
   "execution_count": 6,
   "metadata": {},
   "outputs": [
    {
     "data": {
      "text/plain": [
       "[6.0, 6.0]"
      ]
     },
     "execution_count": 6,
     "metadata": {},
     "output_type": "execute_result"
    }
   ],
   "source": [
    "def calculate_output_shape(image_size: list[int], kernel: list[int], stride: list[int], padding: list[int]):\n",
    "    assert len(image_size) == len(kernel) == len(stride) == len(padding), \"All values should have the same length\"\n",
    "    output_shape = []\n",
    "    for dim in range(len(image_size)):\n",
    "        shape = (1 + (image_size[dim] + (2 * padding[dim]) - kernel[dim]) / stride[dim])\n",
    "        assert shape.is_integer(), \"Change kernel, padding, and stride such that output shape is an integer\"\n",
    "        output_shape.append(shape)\n",
    "    return output_shape\n",
    "\n",
    "calculate_output_shape([8,8],[3,3],[1,1],[0,0])"
   ]
  },
  {
   "cell_type": "markdown",
   "metadata": {},
   "source": [
    "Each kernel (or filter) of our Conv2d is learned to extract features from the training data. CNNs come with a nice perk of being able to see what each kernel looks like after training. This can potentially tell us something about what our model has learned.\n",
    "\n",
    "We can demonstrate this with a simple example of a CNN trained to recognize the number 3. If we set the kernel size to equal the image size, we can see this in practice."
   ]
  },
  {
   "cell_type": "code",
   "execution_count": 7,
   "metadata": {},
   "outputs": [],
   "source": [
    "conv_1kernel = nn.Conv2d(\n",
    "    in_channels = 1, # our image is black and white, so only 1 channel (RGB has 3 channels)\n",
    "    out_channels = 1, # or number of kernels to train\n",
    "    kernel_size = (8, 8), # the window is of size 3x3\n",
    "    stride = (1, 1), # only move one pixel between convolutions\n",
    "    padding = (0, 0) # amount of extra pixels to add to the top and sides of our image\n",
    ")"
   ]
  },
  {
   "cell_type": "code",
   "execution_count": 8,
   "metadata": {},
   "outputs": [],
   "source": [
    "# do some clever numpy indexing to grab all examples of 3s from our dataset\n",
    "x = data['data'][data['target'] == 3]\n",
    "y = data['target'][data['target'] == 3]\n",
    "\n",
    "# prep the data for training\n",
    "x = np.reshape(x, (len(x), 1, 8, 8))\n",
    "x = torch.tensor(x, dtype=torch.float32)\n",
    "y = torch.tensor(y, dtype=torch.float32)\n",
    "\n",
    "# lets set up a training loop, and save snapshots of each kernel every epoch\n",
    "optimizer = torch.optim.Adam(conv_1kernel.parameters(), lr = 0.001)\n",
    "loss_fn = torch.nn.BCEWithLogitsLoss(reduction = 'none')\n",
    "kernels = []\n",
    "\n",
    "kernels.append([param.detach().numpy().copy() for param in conv_1kernel.parameters()][0])\n",
    "for _ in range(10):\n",
    "    for i in range(len(x)):\n",
    "        optimizer.zero_grad()\n",
    "        yhat = torch.squeeze(conv_1kernel(x[i:i+1]))\n",
    "        loss = loss_fn(y[i], yhat)\n",
    "        loss.backward()\n",
    "        optimizer.step()\n",
    "    kernels.append([param.detach().numpy().copy() for param in conv_1kernel.parameters()][0])"
   ]
  },
  {
   "cell_type": "code",
   "execution_count": 9,
   "metadata": {},
   "outputs": [
    {
     "data": {
      "image/png": "[encoded data removed]",
      "text/plain": [
       "<Figure size 3000x300 with 11 Axes>"
      ]
     },
     "metadata": {},
     "output_type": "display_data"
    }
   ],
   "source": [
    "fig, axs = plt.subplots(1, 11, figsize=(30,3))\n",
    "\n",
    "for i in range(len(kernels)):\n",
    "    axs[i].imshow(kernels[i][0,0])"
   ]
  },
  {
   "cell_type": "markdown",
   "metadata": {},
   "source": [
    "Indeed, our kernel is learning to look more and more like a 3. A typical CNN will have hundreds to thousands of kernels that are far smaller than the size of the input image, so interpreting them visually can be more challenging.\n",
    "\n",
    "Also, CNNs can easily \"stack\" such that the output of one `Conv2d` layer is fed into the input of the next. Here, I have the first layer of a CNN written out. Fill in the following layers that are commented out, so that the final output is of a shape `(*,64,1,1)`. Then, add a final fully connected layer that converts the output into shape `(*,10)`."
   ]
  },
  {
   "cell_type": "code",
   "execution_count": 10,
   "metadata": {},
   "outputs": [],
   "source": [
    "example_img = torch.rand((1,1,28,28))\n",
    "\n",
    "conv1 = nn.Conv2d(\n",
    "    in_channels = 1, \n",
    "    out_channels = 16,\n",
    "    kernel_size = (5, 5), \n",
    "    stride = (1, 1),\n",
    "    padding = (0, 0),\n",
    ")\n",
    "\n",
    "maxpool1 = nn.MaxPool2d(kernel_size=(3,3),\n",
    "                       stride = (2,2),\n",
    "                       padding=(0,0),)\n",
    "conv2 = nn.Conv2d(\n",
    "    in_channels = 16, \n",
    "    out_channels = 64, \n",
    "    kernel_size = (3, 3), \n",
    "    stride = (2, 2), \n",
    "    padding = (0, 0),\n",
    ")\n",
    "maxpool2 = nn.MaxPool2d(kernel_size=(5,5),\n",
    "                       stride = (2,2),\n",
    "                       padding=(0,0),)\n",
    "\n",
    "linear1 = nn.Linear(in_features=64,\n",
    "                    out_features=10)"
   ]
  },
  {
   "cell_type": "markdown",
   "metadata": {},
   "source": [
    "Now that you have the final shape, think about how you have transformed the data from a spatially-sensitive 2d matrix, to a kernel-sensitive 1d vector. Essentially, you have compressed the image. Now create a class from your layers so we can re-use it."
   ]
  },
  {
   "cell_type": "code",
   "execution_count": 11,
   "metadata": {},
   "outputs": [],
   "source": [
    "\n",
    "class CNNClassifier(nn.Module):\n",
    "    def __init__(self, output_dim: int):\n",
    "        super(CNNClassifier, self).__init__()\n",
    "        assert output_dim > 0, \"Output dimension must be a positive integer\"\n",
    "        self.conv1 = nn.Conv2d(\n",
    "            in_channels = 1, \n",
    "            out_channels = 16,\n",
    "            kernel_size = (5, 5), \n",
    "            stride = (1, 1),\n",
    "            padding = (0, 0),\n",
    "        )\n",
    "        self.maxpool1 = nn.MaxPool2d(kernel_size=(3,3),\n",
    "                       stride = (2,2),\n",
    "                       padding=(0,0),)\n",
    "        self.conv2 = nn.Conv2d(\n",
    "            in_channels = 16, \n",
    "            out_channels = 64, \n",
    "            kernel_size = (3, 3), \n",
    "            stride = (2, 2), \n",
    "            padding = (0, 0),\n",
    "        )\n",
    "        self.maxpool2 = nn.MaxPool2d(kernel_size=(5,5),\n",
    "                            stride = (2,2),\n",
    "                            padding=(0,0),)\n",
    "        self.linear1 = nn.Linear(in_features=64,\n",
    "                            out_features=output_dim)\n",
    "        self.relu = nn.ReLU()\n",
    "\n",
    "    def forward(self, x):\n",
    "        x = self.relu(self.conv1(x))\n",
    "        x = self.maxpool1(x)\n",
    "        x = self.relu(self.conv2(x))\n",
    "        x = self.maxpool2(x)\n",
    "        # reshape for linear layer\n",
    "        x = x[:,:,0,0]\n",
    "        x = self.linear1(x)     \n",
    "        x = torch.sigmoid(x)  \n",
    "        return x"
   ]
  },
  {
   "cell_type": "markdown",
   "metadata": {},
   "source": [
    "Now, let's grab a real image dataset from `torch`. We can use Fashion MNIST, which is like the MNIST digits dataset but more challenging to learn. Check it out here https://github.com/zalandoresearch/fashion-mnist\n",
    "\n",
    "`pip install torchvision` if you don't have it"
   ]
  },
  {
   "cell_type": "code",
   "execution_count": 12,
   "metadata": {},
   "outputs": [
    {
     "name": "stdout",
     "output_type": "stream",
     "text": [
      "(<PIL.Image.Image image mode=L size=28x28 at 0x16B58AC70>, 9)\n"
     ]
    },
    {
     "name": "stderr",
     "output_type": "stream",
     "text": [
      "/Users/astrini/Documents/ECEGR4750/ECEGR4750/.venv/lib/python3.9/site-packages/urllib3/__init__.py:34: NotOpenSSLWarning: urllib3 v2.0 only supports OpenSSL 1.1.1+, currently the 'ssl' module is compiled with 'LibreSSL 2.8.3'. See: https://github.com/urllib3/urllib3/issues/3020\n",
      "  warnings.warn(\n"
     ]
    },
    {
     "data": {
      "text/plain": [
       "<matplotlib.image.AxesImage at 0x16c71cee0>"
      ]
     },
     "execution_count": 12,
     "metadata": {},
     "output_type": "execute_result"
    },
    {
     "data": {
      "image/png": "[encoded data removed]",
      "text/plain": [
       "<Figure size 640x480 with 1 Axes>"
      ]
     },
     "metadata": {},
     "output_type": "display_data"
    }
   ],
   "source": [
    "import torchvision\n",
    "\n",
    "# creates a data object\n",
    "fashion_mnist_train = torchvision.datasets.FashionMNIST(root = './', download=True, train=True)\n",
    "fashion_mnist_val = torchvision.datasets.FashionMNIST(root = './', download=True, train=False)\n",
    "\n",
    "# we can fetch an item from the data like so, which gives us the image in PIL form, and the class label as an int\n",
    "print(fashion_mnist_train.__getitem__(0))\n",
    "\n",
    "# we can convert the image to a numpy array like so\n",
    "img = fashion_mnist_train.__getitem__(0)[0]\n",
    "img = np.array(img)\n",
    "\n",
    "# and here is a shoe\n",
    "plt.imshow(img)"
   ]
  },
  {
   "cell_type": "markdown",
   "metadata": {},
   "source": [
    "To speed you along, I have code here that processes the data into a format ready-to-ingest by our `CustomDataloader`. Because 60k images is a lot to hold in memory, we will just train on the first 1000. You can run `del fashion_mnist_train` and likewise for val if your notebook starts crashing to free up some memory."
   ]
  },
  {
   "cell_type": "code",
   "execution_count": 14,
   "metadata": {},
   "outputs": [],
   "source": [
    "# collect your data into tensors\n",
    "x = []\n",
    "y = []\n",
    "for i in range(1000):\n",
    "    img, label = fashion_mnist_train.__getitem__(i)\n",
    "    x.append(torch.tensor(np.array(img), dtype=torch.float32))\n",
    "    y.append(label)\n",
    "    \n",
    "# get into format for model (*, 1, 28, 28)\n",
    "x_train = torch.stack(x)\n",
    "x_train = torch.unsqueeze(x_train, 1)\n",
    "\n",
    "# one hot encode the labels into (*, 10)\n",
    "y_train = torch.zeros(len(y),10)\n",
    "y_train[torch.arange(len(y)), y] = 1\n",
    "\n",
    "x = []\n",
    "y = []\n",
    "for i in range(100):\n",
    "    img, label = fashion_mnist_val.__getitem__(i)\n",
    "    x.append(torch.tensor(np.array(img), dtype=torch.float32))\n",
    "    y.append(label)\n",
    "x_val = torch.stack(x)\n",
    "x_val = torch.unsqueeze(x_val, 1)\n",
    "y_val = torch.zeros(len(y),10)\n",
    "y_val[torch.arange(len(y)), y] = 1"
   ]
  },
  {
   "cell_type": "markdown",
   "metadata": {},
   "source": [
    "Write a training loop to train your new model on the image data. Note that when I did this, I found model initialization and hyperparameters made a very large difference in whether the model converged or not. You may need to try the same parameters multiple times to get good results."
   ]
  },
  {
   "cell_type": "code",
   "execution_count": 16,
   "metadata": {},
   "outputs": [
    {
     "ename": "IndentationError",
     "evalue": "expected an indented block (3916387923.py, line 20)",
     "output_type": "error",
     "traceback": [
      "\u001b[0;36m  Cell \u001b[0;32mIn[16], line 20\u001b[0;36m\u001b[0m\n\u001b[0;31m    for _ in tqdm.tqdm(range(epochs)):\u001b[0m\n\u001b[0m                                      ^\u001b[0m\n\u001b[0;31mIndentationError\u001b[0m\u001b[0;31m:\u001b[0m expected an indented block\n"
     ]
    }
   ],
   "source": [
    "from dataloader import CustomDataloader\n",
    "\n",
    "train_dataloader = CustomDataloader(x = x_train, y = y_train, batch_size=16, randomize=True)\n",
    "val_dataloader = CustomDataloader(x = x_val, y = y_val, batch_size=16, randomize=False)\n",
    "\n",
    "model = CNNClassifier(10)\n",
    "\n",
    "# instantiate your optimizer\n",
    "\n",
    "# log your losses\n",
    "train_losses = []\n",
    "val_losses = []\n",
    "\n",
    "# define how many epochs to train on\n",
    "epochs = 200\n",
    "\n",
    "# define your loss function for multiclass classification task\n",
    "# BCE does binary cross entropy automatically for each class\n",
    "\n",
    "for _ in tqdm.tqdm(range(epochs)):\n"
   ]
  },
  {
   "cell_type": "markdown",
   "metadata": {},
   "source": [
    "Visualize performance on validation data"
   ]
  }
 ],
 "metadata": {
  "kernelspec": {
   "display_name": "Python 3 (ipykernel)",
   "language": "python",
   "name": "python3"
  },
  "language_info": {
   "codemirror_mode": {
    "name": "ipython",
    "version": 3
   },
   "file_extension": ".py",
   "mimetype": "text/x-python",
   "name": "python",
   "nbconvert_exporter": "python",
   "pygments_lexer": "ipython3",
   "version": "3.9.6"
  }
 },
 "nbformat": 4,
 "nbformat_minor": 4
}
